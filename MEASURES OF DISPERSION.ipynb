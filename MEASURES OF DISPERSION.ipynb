{
 "cells": [
  {
   "cell_type": "code",
   "execution_count": 1,
   "id": "43d77d67",
   "metadata": {},
   "outputs": [],
   "source": [
    "import statistics as stats"
   ]
  },
  {
   "cell_type": "code",
   "execution_count": 2,
   "id": "bbe21856",
   "metadata": {},
   "outputs": [
    {
     "name": "stdout",
     "output_type": "stream",
     "text": [
      "99\n"
     ]
    }
   ],
   "source": [
    "lst = [12, 23, 43, 19, 1, 33, 76 , 100]\n",
    "lst_range = max(lst) - min(lst)\n",
    "print(lst_range)"
   ]
  },
  {
   "cell_type": "code",
   "execution_count": 5,
   "id": "ff89b5ab",
   "metadata": {},
   "outputs": [],
   "source": [
    "lst = [12, 23, 43, 19, 1, 33, 76 , 100, 12, 54, 56, 98, 32, 54, 87]"
   ]
  },
  {
   "cell_type": "code",
   "execution_count": 6,
   "id": "68cb4b0e",
   "metadata": {},
   "outputs": [
    {
     "data": {
      "text/plain": [
       "1027.952380952381"
      ]
     },
     "execution_count": 6,
     "metadata": {},
     "output_type": "execute_result"
    }
   ],
   "source": [
    "import statistics as stats\n",
    "stats.variance(lst)"
   ]
  },
  {
   "cell_type": "markdown",
   "id": "b1e7169c",
   "metadata": {},
   "source": [
    "* CALCULAR LA VARIANZA MANUALMENTE"
   ]
  },
  {
   "cell_type": "code",
   "execution_count": null,
   "id": "01066296",
   "metadata": {},
   "outputs": [],
   "source": [
    "Paso 1: Calcule la media\n",
    "Paso 2: Resta la media de cada observación individual. Esto se llama desviación.\n",
    "Paso 3: Toma el cuadrado de estas desviaciones. Estas se llaman desviaciones al cuadrado.\n",
    "Paso 4: Sume todas las desviaciones al cuadrado. Esto se llama suma de cuadrados.\n",
    "Paso 5: Divida la suma de cuadrados por (n-1) donde `n` es el número de observaciones. Esto se llama varianza\n",
    "Paso 6: Calcula la raíz cuadrada de la varianza. Esto se llama desviación estándar. "
   ]
  },
  {
   "cell_type": "markdown",
   "id": "e2f18c3f",
   "metadata": {},
   "source": [
    "* CALCULAR STANDARD DEVIATION"
   ]
  },
  {
   "cell_type": "code",
   "execution_count": 7,
   "id": "72f8ac8e",
   "metadata": {},
   "outputs": [
    {
     "data": {
      "text/plain": [
       "32.06169647651822"
      ]
     },
     "execution_count": 7,
     "metadata": {},
     "output_type": "execute_result"
    }
   ],
   "source": [
    "import statistics as stats\n",
    "stats.stdev(lst)"
   ]
  },
  {
   "cell_type": "markdown",
   "id": "163fc00a",
   "metadata": {},
   "source": [
    "* DIFERENCIA ENTRE STANDARD DEVIATION Y VARIANCE"
   ]
  },
  {
   "cell_type": "code",
   "execution_count": null,
   "id": "eb6e5779",
   "metadata": {},
   "outputs": [],
   "source": [
    "La unidad de varianza es el cuadrado de la unidad de los datos originales, \n",
    "mientras que la unidad de desviación estándar es la misma que la unidad de los datos originales. \n",
    "Por lo tanto, a efectos prácticos, a veces las personas prefieren usar la desviación estándar en lugar de la varianza.\n",
    "Además, dado que la varianza es el cuadrado de la desviación estándar, \n",
    "si el valor de la desviación estándar es grande, la magnitud de la varianza se vuelve mayor. A veces es preferible trabajar con números de magnitudes menores"
   ]
  },
  {
   "cell_type": "code",
   "execution_count": 9,
   "id": "8cd597dc",
   "metadata": {},
   "outputs": [],
   "source": [
    "points = [-4,  17,  25,  19,  6,  11,  7]"
   ]
  },
  {
   "cell_type": "code",
   "execution_count": 11,
   "id": "d4a807d9",
   "metadata": {},
   "outputs": [
    {
     "name": "stdout",
     "output_type": "stream",
     "text": [
      "29\n"
     ]
    }
   ],
   "source": [
    "points_range = max(points) - min(points)\n",
    "print(points_range)"
   ]
  },
  {
   "cell_type": "code",
   "execution_count": 12,
   "id": "bc14b6f2",
   "metadata": {},
   "outputs": [],
   "source": [
    "data = [2,4,7,1,6,8]"
   ]
  },
  {
   "cell_type": "code",
   "execution_count": 13,
   "id": "884bb619",
   "metadata": {},
   "outputs": [
    {
     "data": {
      "text/plain": [
       "9.658452996505925"
      ]
     },
     "execution_count": 13,
     "metadata": {},
     "output_type": "execute_result"
    }
   ],
   "source": [
    "import statistics as stats\n",
    "stats.stdev(points)"
   ]
  },
  {
   "cell_type": "code",
   "execution_count": 14,
   "id": "1ebbe613",
   "metadata": {},
   "outputs": [],
   "source": [
    "data = [2,4,7,1,12,8]"
   ]
  },
  {
   "cell_type": "code",
   "execution_count": 15,
   "id": "5d770ec9",
   "metadata": {},
   "outputs": [
    {
     "data": {
      "text/plain": [
       "4.131182235954578"
      ]
     },
     "execution_count": 15,
     "metadata": {},
     "output_type": "execute_result"
    }
   ],
   "source": [
    "import statistics as stats\n",
    "stats.stdev(data)"
   ]
  },
  {
   "cell_type": "code",
   "execution_count": 16,
   "id": "d05a7abe",
   "metadata": {},
   "outputs": [
    {
     "data": {
      "text/plain": [
       "0.0"
      ]
     },
     "execution_count": 16,
     "metadata": {},
     "output_type": "execute_result"
    }
   ],
   "source": [
    "data = [2,2,2,2,2,2]\n",
    "import statistics as stats\n",
    "stats.stdev(data)"
   ]
  },
  {
   "cell_type": "code",
   "execution_count": 17,
   "id": "8acab824",
   "metadata": {},
   "outputs": [],
   "source": [
    "data = [23, 12, 34, 65, 34, 81]"
   ]
  },
  {
   "cell_type": "code",
   "execution_count": 28,
   "id": "5c584588",
   "metadata": {},
   "outputs": [
    {
     "name": "stdout",
     "output_type": "stream",
     "text": [
      "18.5\n",
      "29.5\n",
      "7.5\n",
      "-23.5\n",
      "7.5\n",
      "-39.5\n"
     ]
    }
   ],
   "source": [
    "import statistics as stats\n",
    "for i in data:\n",
    "    i = stats.mean(data) - i\n",
    "    print(i)"
   ]
  },
  {
   "cell_type": "code",
   "execution_count": 30,
   "id": "275e8d00",
   "metadata": {},
   "outputs": [
    {
     "data": {
      "text/plain": [
       "-661.2797787957462"
      ]
     },
     "execution_count": 30,
     "metadata": {},
     "output_type": "execute_result"
    }
   ],
   "source": [
    "stats.stdev(data) - stats.variance(data)"
   ]
  }
 ],
 "metadata": {
  "kernelspec": {
   "display_name": "Python 3 (ipykernel)",
   "language": "python",
   "name": "python3"
  },
  "language_info": {
   "codemirror_mode": {
    "name": "ipython",
    "version": 3
   },
   "file_extension": ".py",
   "mimetype": "text/x-python",
   "name": "python",
   "nbconvert_exporter": "python",
   "pygments_lexer": "ipython3",
   "version": "3.9.7"
  }
 },
 "nbformat": 4,
 "nbformat_minor": 5
}
